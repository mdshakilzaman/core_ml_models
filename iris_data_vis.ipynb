{
 "cells": [
  {
   "cell_type": "code",
   "execution_count": null,
   "metadata": {},
   "outputs": [],
   "source": [
    "import pandas as pd\n",
    "import seaborn as sns\n",
    "import matplotlib.pyplot as plt\n",
    "import plotly.express as px\n",
    "# To ignore warnings, use the following code to make the display more attractive.\n",
    "# Import seaborn and matplotlib.\n",
    "import warnings\n",
    "warnings.filterwarnings(\"ignore\")\n",
    "# sns.set(style=\"white\", color_codes=True)\n"
   ]
  },
  {
   "cell_type": "code",
   "execution_count": null,
   "metadata": {},
   "outputs": [],
   "source": [
    "#To import the Iris dataset:\n",
    "iris = pd.read_csv(\"./datasets/iris/Iris.csv\") # the iris dataset is now a Pandas DataFrame\n",
    "#To view Iris data below:\n",
    "\n",
    "label_map = {'Iris-setosa': 0, 'Iris-versicolor': 1, 'Iris-virginica': 2}\n",
    "iris['species_value'] = iris['Species'].map(label_map)\n",
    "iris.head()"
   ]
  },
  {
   "cell_type": "code",
   "execution_count": null,
   "metadata": {},
   "outputs": [],
   "source": [
    "iris[\"Species\"].value_counts()\n",
    "# iris.describe()\n"
   ]
  },
  {
   "cell_type": "code",
   "execution_count": null,
   "metadata": {},
   "outputs": [],
   "source": [
    "plot_path = './plots/iris/'"
   ]
  },
  {
   "cell_type": "code",
   "execution_count": null,
   "metadata": {},
   "outputs": [],
   "source": [
    "\n",
    "def scatter2d(x1,x2):\n",
    "    sns.scatterplot(x=x1, y=x2,\n",
    "                hue='Species', data=iris)\n",
    "    \n",
    "    # Placing Legend outside the Figure\n",
    "    plt.legend()\n",
    "    plt.savefig(plot_path+\"scatter_2d_2.jpg\")\n",
    "    plt.show()\n",
    "# x1 = 'SepalLengthCm'\n",
    "# x2 = 'SepalWidthCm'\n",
    "# scatter2d(x1,x2)"
   ]
  },
  {
   "cell_type": "code",
   "execution_count": null,
   "metadata": {},
   "outputs": [],
   "source": [
    "x1 = 'PetalLengthCm'\n",
    "x2 = 'PetalWidthCm'\n",
    "scatter2d(x1,x2)"
   ]
  },
  {
   "cell_type": "code",
   "execution_count": null,
   "metadata": {},
   "outputs": [],
   "source": [
    "\n",
    "def scatter3d_plotly(x1,x2,x3):\n",
    "    fig = px.scatter_3d(iris, x=x1, y=x2, z=x3,color='Species')\n",
    "    fig.show()\n",
    "x1 = 'SepalLengthCm'\n",
    "x2= 'SepalWidthCm'\n",
    "x3 = 'PetalLengthCm'\n",
    "scatter3d_plotly(x1,x2,x3)"
   ]
  },
  {
   "cell_type": "code",
   "execution_count": null,
   "metadata": {},
   "outputs": [],
   "source": [
    "iris.head()"
   ]
  },
  {
   "cell_type": "code",
   "execution_count": null,
   "metadata": {},
   "outputs": [],
   "source": [
    "x1 = iris['SepalLengthCm']\n",
    "x2 = iris['SepalWidthCm']\n",
    "x3 = iris['PetalLengthCm']\n",
    "y = iris['species_value']\n",
    "def scatter_3d(x1,x2,x3,y):\n",
    "    fig = plt.figure(figsize=(8, 6))\n",
    "    ax = fig.add_subplot(111, projection = '3d',elev=-150, azim=110)\n",
    "\n",
    "    ax.set_xlabel(x1.name)\n",
    "    ax.set_ylabel(x2.name)\n",
    "    ax.set_zlabel(x3.name)\n",
    "    ax.scatter(x1, x2, x3,c=y,cmap='viridis')\n",
    "    plt.savefig(plot_path+\"scatter_3d.jpg\")\n",
    "    plt.show()"
   ]
  },
  {
   "cell_type": "code",
   "execution_count": null,
   "metadata": {},
   "outputs": [],
   "source": [
    "scatter_3d(x1,x2,x3,y)"
   ]
  },
  {
   "cell_type": "code",
   "execution_count": null,
   "metadata": {},
   "outputs": [],
   "source": [
    "iris.head()"
   ]
  },
  {
   "cell_type": "code",
   "execution_count": null,
   "metadata": {},
   "outputs": [],
   "source": [
    "df = iris.drop(['Id','Species','species_value'], axis=1)\n",
    "df.corr()\n",
    "sns.heatmap(df.corr(),annot=True,cmap='viridis')\n",
    "plt.savefig(plot_path+\"heatmap.jpg\")\n",
    "plt.show()"
   ]
  },
  {
   "cell_type": "code",
   "execution_count": null,
   "metadata": {},
   "outputs": [],
   "source": [
    "x1 = 'SepalLengthCm'\n",
    "x2 = 'SepalWidthCm'\n",
    "def scatter2d_with_dist(x1,x2):\n",
    "    sns.jointplot(data=iris, x = x1, y = x2, hue='Species')\n",
    "    plt.savefig(plot_path+\"joint_plot.jpg\")\n",
    "    plt.show()\n",
    "scatter2d_with_dist(x1,x2)"
   ]
  },
  {
   "cell_type": "code",
   "execution_count": null,
   "metadata": {},
   "outputs": [],
   "source": [
    "def box(x1):\n",
    "    sns.boxplot(x=\"Species\", y=x1, data=iris )\n",
    "    plt.savefig(plot_path+\"box_plot.jpg\")\n",
    "    plt.show()\n",
    "box(x2)"
   ]
  },
  {
   "cell_type": "code",
   "execution_count": null,
   "metadata": {},
   "outputs": [],
   "source": [
    "def violin(x1):\n",
    "    sns.violinplot(x=\"Species\", y=x1, data=iris, size=6)\n",
    "    plt.savefig(plot_path+\"violin_plot.jpg\")\n",
    "    plt.show()\n",
    "violin(x1)"
   ]
  },
  {
   "cell_type": "code",
   "execution_count": null,
   "metadata": {},
   "outputs": [],
   "source": [
    "def kde_plot(x1):\n",
    "    sns.kdeplot(data=iris, x=x1, hue='Species')\n",
    "    plt.savefig(plot_path+\"kde_plot.jpg\")\n",
    "    plt.show()\n",
    "kde_plot(x1)"
   ]
  },
  {
   "cell_type": "code",
   "execution_count": null,
   "metadata": {},
   "outputs": [],
   "source": [
    "sns.pairplot(iris.drop([\"Id\",\"species_value\"], axis=1), hue=\"Species\", size=3,diag_kind = 'hist')\n",
    "plt.savefig(plot_path+\"pair_plot_hist.jpg\")\n",
    "plt.show()"
   ]
  },
  {
   "cell_type": "code",
   "execution_count": null,
   "metadata": {},
   "outputs": [],
   "source": [
    "sns.pairplot(iris.drop([\"Id\",\"species_value\"], axis=1), hue=\"Species\", size=3,diag_kind = 'kde')\n",
    "plt.savefig(plot_path+\"pair_plot_kde.jpg\")\n",
    "plt.show()"
   ]
  },
  {
   "cell_type": "code",
   "execution_count": null,
   "metadata": {},
   "outputs": [],
   "source": [
    "sns.countplot(x='Species', data=iris)\n",
    "plt.savefig(plot_path+\"count_plot.jpg\")\n",
    "plt.show()"
   ]
  },
  {
   "cell_type": "code",
   "execution_count": null,
   "metadata": {},
   "outputs": [],
   "source": []
  }
 ],
 "metadata": {
  "kernelspec": {
   "display_name": "ml_env",
   "language": "python",
   "name": "python3"
  },
  "language_info": {
   "codemirror_mode": {
    "name": "ipython",
    "version": 3
   },
   "file_extension": ".py",
   "mimetype": "text/x-python",
   "name": "python",
   "nbconvert_exporter": "python",
   "pygments_lexer": "ipython3",
   "version": "3.8.10"
  },
  "orig_nbformat": 4
 },
 "nbformat": 4,
 "nbformat_minor": 2
}
